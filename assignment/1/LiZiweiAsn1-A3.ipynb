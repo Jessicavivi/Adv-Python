{
 "cells": [
  {
   "cell_type": "code",
   "execution_count": 37,
   "metadata": {},
   "outputs": [
    {
     "name": "stdout",
     "output_type": "stream",
     "text": [
      "Sales Growth Review: \n",
      "  Div  2018-2019  2019-2020 trend\n",
      "0   A    -0.0820     0.2457     +\n",
      "1   B     0.0386     0.0286     -\n"
     ]
    }
   ],
   "source": [
    "#LiZiweiAsn1-A3\n",
    "import pandas as pd\n",
    "#open xlsx and set CODE as index\n",
    "fdiva = pd.read_excel('incstmt-diva.xlsx',index_col = 0)\n",
    "fdivb = pd.read_excel('incstmt-divb.xlsx',index_col = 0)\n",
    "\n",
    "sale_a_18 = fdiva.loc['SALE','Act2018']\n",
    "sale_a_19 = fdiva.loc['SALE','Act2019']\n",
    "sale_a_20 = fdiva.loc['SALE','Proj2020']\n",
    "\n",
    "sale_b_18 = fdivb.loc['SALE','Act2018']\n",
    "sale_b_19 = fdivb.loc['SALE','Act2019']\n",
    "sale_b_20 = fdivb.loc['SALE','Proj2020']\n",
    "\n",
    "list_sale_a = [sale_a_18,sale_a_19,sale_a_20]\n",
    "list_sale_b = [sale_b_18,sale_b_19,sale_b_20]\n",
    "\n",
    "\n",
    "\n",
    "def SalesGrowth(listName):\n",
    "    i = []\n",
    "    i.append(round((listName[1] - listName[0])/listName[0],4)) \n",
    "    i.append(round((listName[2] - listName[1])/listName[1],4))\n",
    "    if i[1] > i[0]:\n",
    "        trend = '+'\n",
    "    elif i[1] < i[0]:\n",
    "        trend = '-'\n",
    "    else:\n",
    "        trend = '='\n",
    "    i.append(trend)\n",
    "    return(i)\n",
    "\n",
    "table1A = SalesGrowth(list_sale_a)\n",
    "table1B = SalesGrowth(list_sale_b)\n",
    "\n",
    "\n",
    "df1 = pd.DataFrame([table1A,table1B],columns = ['2018-2019','2019-2020','trend'])\n",
    "\n",
    "df1.insert(0,'Div',['A','B'])\n",
    "print('Sales Growth Review: ')\n",
    "print(df1)\n",
    "\n",
    "\n",
    "\n",
    "\n",
    "\n",
    "\n"
   ]
  },
  {
   "cell_type": "code",
   "execution_count": 39,
   "metadata": {},
   "outputs": [
    {
     "name": "stdout",
     "output_type": "stream",
     "text": [
      "Operating Margin Review: \n",
      "  Div  Act2019  Proj2020 trend\n",
      "0   A  -0.0820    0.2457     +\n",
      "1   B   0.0386    0.0286     -\n"
     ]
    }
   ],
   "source": [
    "import pandas as pd\n",
    "#open xlsx and set CODE as index\n",
    "fdiva = pd.read_excel('incstmt-diva.xlsx',index_col = 0)\n",
    "fdivb = pd.read_excel('incstmt-divb.xlsx',index_col = 0)\n",
    "\n",
    "\n",
    "earnings_a_2019 = fdiva.loc['EBT','Act2019']\n",
    "earnings_a_2020 = fdiva.loc['EBT','Proj2020']\n",
    "\n",
    "\n",
    "earnings_b_2019 = fdivb.loc['EBT','Act2019']\n",
    "earnings_b_2020 = fdivb.loc['EBT','Proj2020']\n",
    "\n",
    "list_earnings_a = [earnings_a_2019,earnings_a_2020]\n",
    "list_earnings_b = [earnings_b_2019,earnings_b_2020]\n",
    "\n",
    "sale_a_19 = fdiva.loc['SALE','Act2019']\n",
    "sale_a_20 = fdiva.loc['SALE','Proj2020']\n",
    "\n",
    "\n",
    "sale_b_19 = fdivb.loc['SALE','Act2019']\n",
    "sale_b_20 = fdivb.loc['SALE','Proj2020']\n",
    "\n",
    "list_sale_a = [sale_a_19,sale_a_20]\n",
    "list_sale_b = [sale_b_19,sale_b_20]\n",
    "\n",
    "def Margin(listName1,listName2):\n",
    "    i = []\n",
    "    i.append(round(listName1[0]/listName2[0],4))\n",
    "    i.append(round(listName1[1]/listName2[1],4))\n",
    "    if i[1] > i[0]:\n",
    "        trend = '+'\n",
    "    elif i[1] < i[0]:\n",
    "        trend = '-'\n",
    "    else:\n",
    "        trend = '='\n",
    "    i.append(trend)\n",
    "    return(i)\n",
    "\n",
    "table2A = Margin(list_earnings_a,list_sale_a)\n",
    "table2B = Margin(list_earnings_b,list_sale_b)\n",
    "\n",
    "\n",
    "df2 = pd.DataFrame([table1A,table1B],columns = ['Act2019','Proj2020','trend'])\n",
    "df2.insert(0,'Div',['A','B'])\n",
    "print('Operating Margin Review: ')\n",
    "print(df2)\n"
   ]
  },
  {
   "cell_type": "code",
   "execution_count": null,
   "metadata": {},
   "outputs": [],
   "source": []
  }
 ],
 "metadata": {
  "kernelspec": {
   "display_name": "Python 3",
   "language": "python",
   "name": "python3"
  },
  "language_info": {
   "codemirror_mode": {
    "name": "ipython",
    "version": 3
   },
   "file_extension": ".py",
   "mimetype": "text/x-python",
   "name": "python",
   "nbconvert_exporter": "python",
   "pygments_lexer": "ipython3",
   "version": "3.7.3"
  }
 },
 "nbformat": 4,
 "nbformat_minor": 2
}
