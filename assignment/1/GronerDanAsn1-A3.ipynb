{
 "cells": [
  {
   "cell_type": "markdown",
   "metadata": {},
   "source": [
    "ISGB79AA Asn1:A3 - Division Change Analysis"
   ]
  },
  {
   "cell_type": "code",
   "execution_count": 1,
   "metadata": {},
   "outputs": [],
   "source": [
    "import pandas as pd"
   ]
  },
  {
   "cell_type": "code",
   "execution_count": 2,
   "metadata": {},
   "outputs": [],
   "source": [
    "# read each division's data in a DataFrame\n",
    "divnames = ['incstmt-diva', 'incstmt-divb']\n",
    "divdfs = []\n",
    "for divname in divnames:\n",
    "   filename = divname + '.xlsx'\n",
    "   #print(filename)\n",
    "   df = pd.read_excel(filename, sep='|',index_col='CODE',comment='#')\n",
    "   df.drop('Description',axis=1,inplace=True)\n",
    "   divdfs.append(df)\n",
    "   #print(df)\n",
    "#print(divdfs)"
   ]
  },
  {
   "cell_type": "code",
   "execution_count": 3,
   "metadata": {},
   "outputs": [
    {
     "name": "stdout",
     "output_type": "stream",
     "text": [
      "Sales Growth Review\n",
      "Div Act2019 Proj2020\n",
      "incstmt-diva      -8.2     24.6 +\n",
      "incstmt-divb       3.9      2.9 -\n"
     ]
    }
   ],
   "source": [
    "# Sales Growth Analysis\n",
    "print(\"Sales Growth Review\")\n",
    "print('Div', 'Act2019', 'Proj2020')\n",
    "for i in range(0, len(divnames)):\n",
    "    divdf = divdfs[i]\n",
    "    divdf[\"ActChg\"] = (divdf.Act2019 - divdf.Act2018) / divdf.Act2018 * 100\n",
    "    divdf[\"ProjChg\"] = (divdf.Proj2020 - divdf.Act2019) / divdf.Act2019 * 100\n",
    "    saleActChg = divdf.loc[\"SALE\"][\"ActChg\"]\n",
    "    saleProjChg = divdf.loc[\"SALE\"][\"ProjChg\"]\n",
    "    print(divnames[i], \"%9.1f\" % saleActChg, \"%8.1f\" % saleProjChg, end=' ')\n",
    "    if (saleProjChg < saleActChg):\n",
    "        print(\"-\", end='')\n",
    "    elif (saleProjChg > saleActChg):\n",
    "        print(\"+\", end='')\n",
    "    print()"
   ]
  },
  {
   "cell_type": "code",
   "execution_count": 4,
   "metadata": {},
   "outputs": [
    {
     "name": "stdout",
     "output_type": "stream",
     "text": [
      "Operating Margin Review\n",
      "Div Act2019 Proj2020\n",
      "incstmt-diva      28.3     39.0 +\n",
      "incstmt-divb      33.4     32.2 -\n"
     ]
    }
   ],
   "source": [
    "# Operating Margin Change Analysis\n",
    "print(\"Operating Margin Review\")\n",
    "print('Div', 'Act2019', 'Proj2020')\n",
    "for i in range(0, len(divnames)):\n",
    "    divdf = divdfs[i]\n",
    "    OpMgnAct = divdf.loc[\"EBT\"][\"Act2019\"] / divdf.loc[\"SALE\"][\"Act2019\"] * 100\n",
    "    OpMgnProj = divdf.loc[\"EBT\"][\"Proj2020\"] / divdf.loc[\"SALE\"][\"Proj2020\"] * 100\n",
    "    print(divnames[i], \"%9.1f\" % OpMgnAct, \"%8.1f\" % OpMgnProj, end=' ')\n",
    "    if (OpMgnAct < OpMgnProj):\n",
    "        print(\"+\", end='')\n",
    "    elif (OpMgnAct > OpMgnProj):\n",
    "        print(\"-\", end='')\n",
    "    print()"
   ]
  },
  {
   "cell_type": "code",
   "execution_count": null,
   "metadata": {},
   "outputs": [],
   "source": []
  }
 ],
 "metadata": {
  "kernelspec": {
   "display_name": "Python 3",
   "language": "python",
   "name": "python3"
  },
  "language_info": {
   "codemirror_mode": {
    "name": "ipython",
    "version": 3
   },
   "file_extension": ".py",
   "mimetype": "text/x-python",
   "name": "python",
   "nbconvert_exporter": "python",
   "pygments_lexer": "ipython3",
   "version": "3.7.1"
  }
 },
 "nbformat": 4,
 "nbformat_minor": 2
}
