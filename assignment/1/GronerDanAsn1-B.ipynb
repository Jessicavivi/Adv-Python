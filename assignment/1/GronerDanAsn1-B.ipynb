{
 "cells": [
  {
   "cell_type": "markdown",
   "metadata": {},
   "source": [
    "ISGB 79AA - Asn1:B - Daily returns from a Yahoo Finance history spreadsheet"
   ]
  },
  {
   "cell_type": "code",
   "execution_count": 1,
   "metadata": {},
   "outputs": [],
   "source": [
    "import xlrd\n",
    "import pandas as pd"
   ]
  },
  {
   "cell_type": "code",
   "execution_count": 2,
   "metadata": {},
   "outputs": [
    {
     "name": "stdout",
     "output_type": "stream",
     "text": [
      "<xlrd.book.Book object at 0x11f10e8d0>\n",
      "<xlrd.sheet.Sheet object at 0x11f5a2710>\n"
     ]
    }
   ],
   "source": [
    "# get the first sheet of the workbook\n",
    "filename = \"AAPL.xlsx\"\n",
    "wb = xlrd.open_workbook(filename)\n",
    "print(wb)\n",
    "sheet = wb.sheet_by_index(0)\n",
    "print(sheet)"
   ]
  },
  {
   "cell_type": "code",
   "execution_count": 3,
   "metadata": {},
   "outputs": [
    {
     "name": "stdout",
     "output_type": "stream",
     "text": [
      "252\n",
      "7\n"
     ]
    }
   ],
   "source": [
    "# check the number of rows and columns\n",
    "print(sheet.nrows)\n",
    "print(sheet.ncols)"
   ]
  },
  {
   "cell_type": "code",
   "execution_count": 4,
   "metadata": {},
   "outputs": [
    {
     "name": "stdout",
     "output_type": "stream",
     "text": [
      "Date\n",
      "Open\n",
      "High\n",
      "Low\n",
      "Close\n",
      "Adj Close\n",
      "Volume\n"
     ]
    }
   ],
   "source": [
    "# check the cell headings\n",
    "for i in range(sheet.ncols):\n",
    "    print(sheet.cell_value(0, i))"
   ]
  },
  {
   "cell_type": "code",
   "execution_count": 5,
   "metadata": {},
   "outputs": [
    {
     "name": "stdout",
     "output_type": "stream",
     "text": [
      "43493.0\n"
     ]
    }
   ],
   "source": [
    "# check the first date value\n",
    "date0 = sheet.cell_value(1, 0)\n",
    "print(date0)"
   ]
  },
  {
   "cell_type": "code",
   "execution_count": 6,
   "metadata": {},
   "outputs": [
    {
     "name": "stdout",
     "output_type": "stream",
     "text": [
      "2019-01-28 00:00:00\n",
      "<class 'datetime.datetime'>\n"
     ]
    }
   ],
   "source": [
    "# check translation of the date value into a datetime\n",
    "date0datetime = xlrd.xldate_as_datetime(date0, 0)\n",
    "print(date0datetime)\n",
    "print(type(date0datetime))"
   ]
  },
  {
   "cell_type": "code",
   "execution_count": 7,
   "metadata": {},
   "outputs": [
    {
     "name": "stdout",
     "output_type": "stream",
     "text": [
      "[datetime.datetime(2019, 1, 28, 0, 0), datetime.datetime(2019, 1, 29, 0, 0), datetime.datetime(2019, 1, 30, 0, 0), datetime.datetime(2019, 1, 31, 0, 0), datetime.datetime(2019, 2, 1, 0, 0)]\n"
     ]
    }
   ],
   "source": [
    "# build a list of dates from spreadsheet\n",
    "dates = []\n",
    "datevalues = sheet.col_values(0)\n",
    "datevalues = datevalues[1:] # drop the header\n",
    "for datevalue in datevalues:\n",
    "    dates.append(xlrd.xldate_as_datetime(datevalue, 0))\n",
    "print(dates[:5])"
   ]
  },
  {
   "cell_type": "code",
   "execution_count": 8,
   "metadata": {},
   "outputs": [
    {
     "name": "stdout",
     "output_type": "stream",
     "text": [
      "[153.986359, 152.39032, 162.803864, 163.976242, 164.055069]\n"
     ]
    }
   ],
   "source": [
    "# get the list of closing prices from the spreadsheet\n",
    "adjcloses = sheet.col_values(5)\n",
    "adjcloses = adjcloses[1:]\n",
    "print(adjcloses[:5])"
   ]
  },
  {
   "cell_type": "code",
   "execution_count": 9,
   "metadata": {},
   "outputs": [
    {
     "name": "stdout",
     "output_type": "stream",
     "text": [
      "              AdjClose\n",
      "2019-01-28  153.986359\n",
      "2019-01-29  152.390320\n",
      "2019-01-30  162.803864\n",
      "2019-01-31  163.976242\n",
      "2019-02-01  164.055069\n"
     ]
    }
   ],
   "source": [
    "# Create the DataFrame from the lists built above\n",
    "df = pd.DataFrame({\"AdjClose\":adjcloses}, index=dates)\n",
    "print(df.head(5))"
   ]
  },
  {
   "cell_type": "code",
   "execution_count": 10,
   "metadata": {},
   "outputs": [
    {
     "data": {
      "text/html": [
       "<div>\n",
       "<style scoped>\n",
       "    .dataframe tbody tr th:only-of-type {\n",
       "        vertical-align: middle;\n",
       "    }\n",
       "\n",
       "    .dataframe tbody tr th {\n",
       "        vertical-align: top;\n",
       "    }\n",
       "\n",
       "    .dataframe thead th {\n",
       "        text-align: right;\n",
       "    }\n",
       "</style>\n",
       "<table border=\"1\" class=\"dataframe\">\n",
       "  <thead>\n",
       "    <tr style=\"text-align: right;\">\n",
       "      <th></th>\n",
       "      <th>AdjClose</th>\n",
       "      <th>Return</th>\n",
       "    </tr>\n",
       "  </thead>\n",
       "  <tbody>\n",
       "    <tr>\n",
       "      <th>2019-01-28</th>\n",
       "      <td>153.986359</td>\n",
       "      <td>NaN</td>\n",
       "    </tr>\n",
       "    <tr>\n",
       "      <th>2019-01-29</th>\n",
       "      <td>152.390320</td>\n",
       "      <td>-0.010365</td>\n",
       "    </tr>\n",
       "    <tr>\n",
       "      <th>2019-01-30</th>\n",
       "      <td>162.803864</td>\n",
       "      <td>0.068335</td>\n",
       "    </tr>\n",
       "    <tr>\n",
       "      <th>2019-01-31</th>\n",
       "      <td>163.976242</td>\n",
       "      <td>0.007201</td>\n",
       "    </tr>\n",
       "    <tr>\n",
       "      <th>2019-02-01</th>\n",
       "      <td>164.055069</td>\n",
       "      <td>0.000481</td>\n",
       "    </tr>\n",
       "  </tbody>\n",
       "</table>\n",
       "</div>"
      ],
      "text/plain": [
       "              AdjClose    Return\n",
       "2019-01-28  153.986359       NaN\n",
       "2019-01-29  152.390320 -0.010365\n",
       "2019-01-30  162.803864  0.068335\n",
       "2019-01-31  163.976242  0.007201\n",
       "2019-02-01  164.055069  0.000481"
      ]
     },
     "execution_count": 10,
     "metadata": {},
     "output_type": "execute_result"
    }
   ],
   "source": [
    "# append the daily returns\n",
    "df[\"Return\"] = df[\"AdjClose\"].pct_change()\n",
    "df.head(5)"
   ]
  },
  {
   "cell_type": "code",
   "execution_count": 11,
   "metadata": {},
   "outputs": [
    {
     "data": {
      "text/plain": [
       "<matplotlib.axes._subplots.AxesSubplot at 0x11ff042b0>"
      ]
     },
     "execution_count": 11,
     "metadata": {},
     "output_type": "execute_result"
    }
   ],
   "source": [
    "# show a histogram of daily returns\n",
    "df.Return.plot.hist()"
   ]
  },
  {
   "cell_type": "code",
   "execution_count": null,
   "metadata": {},
   "outputs": [],
   "source": []
  }
 ],
 "metadata": {
  "kernelspec": {
   "display_name": "Python 3",
   "language": "python",
   "name": "python3"
  },
  "language_info": {
   "codemirror_mode": {
    "name": "ipython",
    "version": 3
   },
   "file_extension": ".py",
   "mimetype": "text/x-python",
   "name": "python",
   "nbconvert_exporter": "python",
   "pygments_lexer": "ipython3",
   "version": "3.7.1"
  }
 },
 "nbformat": 4,
 "nbformat_minor": 2
}
