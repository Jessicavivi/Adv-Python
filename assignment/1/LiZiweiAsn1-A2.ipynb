{
 "cells": [
  {
   "cell_type": "code",
   "execution_count": 9,
   "metadata": {},
   "outputs": [
    {
     "name": "stdout",
     "output_type": "stream",
     "text": [
      "                                                                             Description  \\\n",
      "CODE                                                                                       \n",
      "# Division A - Income Statement - actual and ye...                                   NaN   \n",
      "SALE                                                                       Sales Revenue   \n",
      "CGS                                                                   Cost of Goods Sold   \n",
      "PROF                                                                        GROSS PROFIT   \n",
      "SGA                                                 Selling, General, and Administrative   \n",
      "ADV                                                                          Advertising   \n",
      "DEP                                                                         Depreciation   \n",
      "RENT                                                                      Rental Expense   \n",
      "OTHX                                                                       Other Expense   \n",
      "EXP                                                                       TOTAL EXPENSES   \n",
      "EBT                                                                EARNINGS BEFORE TAXES   \n",
      "# Division B - Income Statement - actual and ye...                                   NaN   \n",
      "SALE                                                                       Sales Revenue   \n",
      "CGS                                                                   Cost of Goods Sold   \n",
      "PROF                                                                        GROSS PROFIT   \n",
      "SGA                                                 Selling, General, and Administrative   \n",
      "ADV                                                                          Advertising   \n",
      "DEP                                                                         Depreciation   \n",
      "RENT                                                                      Rental Expense   \n",
      "OTHX                                                                       Other Expense   \n",
      "EXP                                                                       TOTAL EXPENSES   \n",
      "EBT                                                                EARNINGS BEFORE TAXES   \n",
      "\n",
      "                                                    Act2018  Act2019  Proj2020  \n",
      "CODE                                                                            \n",
      "# Division A - Income Statement - actual and ye...      NaN      NaN       NaN  \n",
      "SALE                                                   43.9     40.3      50.2  \n",
      "CGS                                                    17.5     18.0      18.2  \n",
      "PROF                                                   26.4     22.3      32.0  \n",
      "SGA                                                     2.1      1.8       2.1  \n",
      "ADV                                                     1.3      1.2       1.5  \n",
      "DEP                                                     2.6      2.5       3.2  \n",
      "RENT                                                    2.2      2.2       2.2  \n",
      "OTHX                                                    3.1      3.2       3.4  \n",
      "EXP                                                    11.3     10.9      12.4  \n",
      "EBT                                                    15.1     11.4      19.6  \n",
      "# Division B - Income Statement - actual and ye...      NaN      NaN       NaN  \n",
      "SALE                                                   33.7     35.0      36.0  \n",
      "CGS                                                    15.0     15.5      16.2  \n",
      "PROF                                                   18.7     19.5      19.8  \n",
      "SGA                                                     1.8      1.8       2.4  \n",
      "ADV                                                     1.1      1.2       1.3  \n",
      "DEP                                                     2.1      2.2       2.3  \n",
      "RENT                                                    1.0      0.5       0.0  \n",
      "OTHX                                                    2.0      2.1       2.2  \n",
      "EXP                                                     8.0      7.8       8.2  \n",
      "EBT                                                    10.7     11.7      11.6  \n"
     ]
    }
   ],
   "source": [
    "#LiZiweiAsn1-A2\n",
    "import pandas as pd\n",
    "comb = []\n",
    "# initialize a dataframe with all 0s\n",
    "dfTotal = pd.read_excel('incstmt-0.xlsx',index_col = 0)\n",
    "divisions  = ['incstmt-diva.xlsx','incstmt-divb.xlsx']\n",
    "# read each division's income statement in list\n",
    "for i in divisions:\n",
    "    data = pd.read_excel(i,index_col = 0)\n",
    "    comb.append(data)\n",
    "dfTotal = pd.concat(comb, axis = 0)\n",
    "print(dfTotal)"
   ]
  },
  {
   "cell_type": "code",
   "execution_count": null,
   "metadata": {},
   "outputs": [],
   "source": []
  },
  {
   "cell_type": "code",
   "execution_count": null,
   "metadata": {},
   "outputs": [],
   "source": []
  }
 ],
 "metadata": {
  "kernelspec": {
   "display_name": "Python 3",
   "language": "python",
   "name": "python3"
  },
  "language_info": {
   "codemirror_mode": {
    "name": "ipython",
    "version": 3
   },
   "file_extension": ".py",
   "mimetype": "text/x-python",
   "name": "python",
   "nbconvert_exporter": "python",
   "pygments_lexer": "ipython3",
   "version": "3.7.3"
  }
 },
 "nbformat": 4,
 "nbformat_minor": 2
}
