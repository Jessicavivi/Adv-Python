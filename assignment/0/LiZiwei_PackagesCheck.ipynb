{
 "cells": [
  {
   "cell_type": "markdown",
   "metadata": {},
   "source": [
    "# Package Install Check - Advanced Python - Gabelli\n",
    "Run all cells in this notebook to verify all required packages are installed"
   ]
  },
  {
   "cell_type": "code",
   "execution_count": 1,
   "metadata": {},
   "outputs": [],
   "source": [
    "# pip is used to import packages; not part of the Anaconda package family\n",
    "import pip"
   ]
  },
  {
   "cell_type": "code",
   "execution_count": 2,
   "metadata": {},
   "outputs": [],
   "source": [
    "# core set of packages\n",
    "import pandas\n",
    "import numpy\n",
    "import scipy\n",
    "import matplotlib\n",
    "import statsmodels\n",
    "import seaborn"
   ]
  },
  {
   "cell_type": "code",
   "execution_count": 1,
   "metadata": {},
   "outputs": [],
   "source": [
    "# Financial Analytics\n",
    "import QuantLib # install: Quantlib-Python via pip"
   ]
  },
  {
   "cell_type": "code",
   "execution_count": 3,
   "metadata": {},
   "outputs": [],
   "source": [
    "# For accessing Web Services\n",
    "import requests"
   ]
  },
  {
   "cell_type": "code",
   "execution_count": 5,
   "metadata": {},
   "outputs": [],
   "source": [
    "# For accessing/parsing Web pages\n",
    "from urllib.request import urlopen # standard python package\n",
    "from bs4 import BeautifulSoup # install: beautifulsoup4"
   ]
  },
  {
   "cell_type": "code",
   "execution_count": 2,
   "metadata": {},
   "outputs": [],
   "source": [
    "# Database (Postgres) access\n",
    "import psycopg2 # install: psycopg2-binary via pip\n",
    "import dotenv # install: python-dotenv via pip\n",
    "# psycopg2 is Postgres/Python adapter; dotenv is for reading properties from a file"
   ]
  },
  {
   "cell_type": "code",
   "execution_count": 3,
   "metadata": {},
   "outputs": [],
   "source": [
    "# Quandl Financial Data API\n",
    "import quandl"
   ]
  },
  {
   "cell_type": "code",
   "execution_count": 4,
   "metadata": {},
   "outputs": [],
   "source": [
    "# Optimization\n",
    "import optable"
   ]
  },
  {
   "cell_type": "code",
   "execution_count": 1,
   "metadata": {},
   "outputs": [],
   "source": [
    "# Machine Learning and related visualization\n",
    "import sklearn # install: scikit-learn\n",
    "import graphviz"
   ]
  },
  {
   "cell_type": "code",
   "execution_count": 4,
   "metadata": {},
   "outputs": [
    {
     "name": "stdout",
     "output_type": "stream",
     "text": [
      "Collecting QuantLib-Python\n",
      "  Downloading https://files.pythonhosted.org/packages/35/39/9ae59e190feb3eeb0468cba9cd3912f7f60e7ebdf220fd8f9ee4288846ed/QuantLib_Python-1.17-py2.py3-none-any.whl\n",
      "Collecting QuantLib==1.17 (from QuantLib-Python)\n",
      "  Downloading https://files.pythonhosted.org/packages/bd/07/2c5f2af5873a22fe86fd38415d71d943db4a23ec7cf1b31e4afbe267013e/QuantLib-1.17-cp37-cp37m-win_amd64.whl (10.7MB)\n",
      "Installing collected packages: QuantLib, QuantLib-Python\n",
      "Successfully installed QuantLib-1.17 QuantLib-Python-1.17\n",
      "Note: you may need to restart the kernel to use updated packages.\n"
     ]
    }
   ],
   "source": [
    "pip install QuantLib-Python"
   ]
  },
  {
   "cell_type": "code",
   "execution_count": 8,
   "metadata": {},
   "outputs": [
    {
     "name": "stdout",
     "output_type": "stream",
     "text": [
      "Collecting psycopg2-binary\n",
      "  Downloading https://files.pythonhosted.org/packages/e7/0c/aca85d48bd72557251ee87ac5b8566ad17eb197725247357d90d0891216e/psycopg2_binary-2.8.4-cp37-cp37m-win_amd64.whl (1.1MB)\n",
      "Installing collected packages: psycopg2-binary\n",
      "Successfully installed psycopg2-binary-2.8.4\n",
      "Note: you may need to restart the kernel to use updated packages.\n"
     ]
    }
   ],
   "source": [
    "pip install psycopg2-binary "
   ]
  },
  {
   "cell_type": "code",
   "execution_count": 9,
   "metadata": {},
   "outputs": [
    {
     "name": "stdout",
     "output_type": "stream",
     "text": [
      "Collecting python-dotenv\n",
      "  Downloading https://files.pythonhosted.org/packages/57/c8/5b14d5cffe7bb06bedf9d66c4562bf90330d3d35e7f0266928c370d9dd6d/python_dotenv-0.10.3-py2.py3-none-any.whl\n",
      "Installing collected packages: python-dotenv\n",
      "Successfully installed python-dotenv-0.10.3\n",
      "Note: you may need to restart the kernel to use updated packages.\n"
     ]
    }
   ],
   "source": [
    "pip install python-dotenv "
   ]
  },
  {
   "cell_type": "code",
   "execution_count": 11,
   "metadata": {},
   "outputs": [
    {
     "name": "stdout",
     "output_type": "stream",
     "text": [
      "Collecting quandl\n",
      "  Downloading https://files.pythonhosted.org/packages/07/ab/8cd479fba8a9b197a43a0d55dd534b066fb8e5a0a04b5c0384cbc5d663aa/Quandl-3.5.0-py2.py3-none-any.whl\n",
      "Requirement already satisfied: pandas>=0.14 in e:\\anaconda\\lib\\site-packages (from quandl) (0.24.2)\n",
      "Requirement already satisfied: requests>=2.7.0 in e:\\anaconda\\lib\\site-packages (from quandl) (2.22.0)\n",
      "Requirement already satisfied: numpy>=1.8 in e:\\anaconda\\lib\\site-packages (from quandl) (1.16.4)\n",
      "Requirement already satisfied: more-itertools in e:\\anaconda\\lib\\site-packages (from quandl) (7.0.0)\n",
      "Requirement already satisfied: python-dateutil in e:\\anaconda\\lib\\site-packages (from quandl) (2.8.0)\n",
      "Requirement already satisfied: six in e:\\anaconda\\lib\\site-packages (from quandl) (1.12.0)\n",
      "Collecting inflection>=0.3.1 (from quandl)\n",
      "  Downloading https://files.pythonhosted.org/packages/d5/35/a6eb45b4e2356fe688b21570864d4aa0d0a880ce387defe9c589112077f8/inflection-0.3.1.tar.gz\n",
      "Requirement already satisfied: pytz>=2011k in e:\\anaconda\\lib\\site-packages (from pandas>=0.14->quandl) (2019.1)\n",
      "Requirement already satisfied: idna<2.9,>=2.5 in e:\\anaconda\\lib\\site-packages (from requests>=2.7.0->quandl) (2.8)\n",
      "Requirement already satisfied: chardet<3.1.0,>=3.0.2 in e:\\anaconda\\lib\\site-packages (from requests>=2.7.0->quandl) (3.0.4)\n",
      "Requirement already satisfied: certifi>=2017.4.17 in e:\\anaconda\\lib\\site-packages (from requests>=2.7.0->quandl) (2019.6.16)\n",
      "Requirement already satisfied: urllib3!=1.25.0,!=1.25.1,<1.26,>=1.21.1 in e:\\anaconda\\lib\\site-packages (from requests>=2.7.0->quandl) (1.24.2)\n",
      "Building wheels for collected packages: inflection\n",
      "  Building wheel for inflection (setup.py): started\n",
      "  Building wheel for inflection (setup.py): finished with status 'done'\n",
      "  Stored in directory: C:\\Users\\Administrator\\AppData\\Local\\pip\\Cache\\wheels\\9f\\5a\\d3\\6fc3bf6516d2a3eb7e18f9f28b472110b59325f3f258fe9211\n",
      "Successfully built inflection\n",
      "Installing collected packages: inflection, quandl\n",
      "Successfully installed inflection-0.3.1 quandl-3.5.0\n",
      "Note: you may need to restart the kernel to use updated packages.\n"
     ]
    }
   ],
   "source": [
    "pip install quandl"
   ]
  },
  {
   "cell_type": "code",
   "execution_count": 13,
   "metadata": {},
   "outputs": [
    {
     "name": "stdout",
     "output_type": "stream",
     "text": [
      "Collecting optable\n",
      "  Downloading https://files.pythonhosted.org/packages/db/6d/7423514c7b96398b6e724347a9b4852e4810a96dd7da429567bd52aad0ad/optable-0.2.2-py3-none-any.whl\n",
      "Requirement already satisfied: scipy>=1.0.0 in e:\\anaconda\\lib\\site-packages (from optable) (1.2.1)\n",
      "Installing collected packages: optable\n",
      "Successfully installed optable-0.2.2\n",
      "Note: you may need to restart the kernel to use updated packages.\n"
     ]
    }
   ],
   "source": [
    "pip install optable"
   ]
  },
  {
   "cell_type": "code",
   "execution_count": 15,
   "metadata": {},
   "outputs": [
    {
     "name": "stdout",
     "output_type": "stream",
     "text": [
      "Requirement already satisfied: scikit-learn in e:\\anaconda\\lib\\site-packages (0.21.2)\n",
      "Requirement already satisfied: numpy>=1.11.0 in e:\\anaconda\\lib\\site-packages (from scikit-learn) (1.16.4)\n",
      "Requirement already satisfied: scipy>=0.17.0 in e:\\anaconda\\lib\\site-packages (from scikit-learn) (1.2.1)\n",
      "Requirement already satisfied: joblib>=0.11 in e:\\anaconda\\lib\\site-packages (from scikit-learn) (0.13.2)\n",
      "Note: you may need to restart the kernel to use updated packages.\n"
     ]
    }
   ],
   "source": [
    "pip install scikit-learn"
   ]
  },
  {
   "cell_type": "code",
   "execution_count": 8,
   "metadata": {},
   "outputs": [
    {
     "name": "stdout",
     "output_type": "stream",
     "text": [
      "Collecting graphviz\n",
      "  Downloading https://files.pythonhosted.org/packages/f5/74/dbed754c0abd63768d3a7a7b472da35b08ac442cf87d73d5850a6f32391e/graphviz-0.13.2-py2.py3-none-any.whl\n",
      "Installing collected packages: graphviz\n",
      "Successfully installed graphviz-0.13.2\n",
      "Note: you may need to restart the kernel to use updated packages.\n"
     ]
    }
   ],
   "source": [
    "pip install graphviz "
   ]
  },
  {
   "cell_type": "code",
   "execution_count": null,
   "metadata": {},
   "outputs": [],
   "source": []
  }
 ],
 "metadata": {
  "kernelspec": {
   "display_name": "Python 3",
   "language": "python",
   "name": "python3"
  },
  "language_info": {
   "codemirror_mode": {
    "name": "ipython",
    "version": 3
   },
   "file_extension": ".py",
   "mimetype": "text/x-python",
   "name": "python",
   "nbconvert_exporter": "python",
   "pygments_lexer": "ipython3",
   "version": "3.7.3"
  }
 },
 "nbformat": 4,
 "nbformat_minor": 2
}
