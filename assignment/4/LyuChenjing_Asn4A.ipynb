{
 "cells": [
  {
   "cell_type": "code",
   "execution_count": 1,
   "metadata": {},
   "outputs": [],
   "source": [
    "#Chenjing Lyu Asn 4A"
   ]
  },
  {
   "cell_type": "code",
   "execution_count": 2,
   "metadata": {},
   "outputs": [],
   "source": [
    "#US Agency for International Development\n",
    "#https://www.quandl.com/data/USAID-U-S-Agency-for-International-Development"
   ]
  },
  {
   "cell_type": "code",
   "execution_count": 3,
   "metadata": {},
   "outputs": [],
   "source": [
    "import quandl\n",
    "import os\n",
    "from dotenv import load_dotenv"
   ]
  },
  {
   "cell_type": "code",
   "execution_count": 4,
   "metadata": {},
   "outputs": [
    {
     "name": "stdout",
     "output_type": "stream",
     "text": [
      "u-949dxEaSeDqznQejMR\n"
     ]
    }
   ],
   "source": [
    "# get a previously issued Quandl key from an .env file\n",
    "env_file = 'env_vars.env'\n",
    "load_dotenv(env_file)\n",
    "quandl_key = os.getenv('QUANDL_KEY')\n",
    "print(quandl_key)"
   ]
  },
  {
   "cell_type": "code",
   "execution_count": 5,
   "metadata": {},
   "outputs": [],
   "source": [
    "# set the global quandl key variable\n",
    "quandl.ApiConfig.api_key = quandl_key"
   ]
  },
  {
   "cell_type": "code",
   "execution_count": 8,
   "metadata": {},
   "outputs": [
    {
     "name": "stdout",
     "output_type": "stream",
     "text": [
      "<class 'pandas.core.frame.DataFrame'>\n",
      "                Value\n",
      "Date                 \n",
      "1984-12-31    64476.0\n",
      "1985-12-31    50704.0\n",
      "1986-12-31    61013.0\n",
      "1987-12-31    98848.0\n",
      "1988-12-31   110199.0\n",
      "1989-12-31    81655.0\n",
      "1990-12-31   938995.0\n",
      "1991-12-31  1012096.0\n",
      "1992-12-31   886748.0\n",
      "1993-12-31   385995.0\n",
      "1994-12-31   122393.0\n",
      "1995-12-31   116890.0\n",
      "1996-12-31   181568.0\n",
      "1997-12-31   232660.0\n",
      "1998-12-31   445552.0\n",
      "1999-12-31   317446.0\n",
      "2000-12-31   275515.0\n",
      "2001-12-31   434250.0\n",
      "2002-12-31   461416.0\n",
      "2003-12-31   468198.0\n",
      "2004-12-31   804563.0\n",
      "2005-12-31   357784.0\n",
      "2006-12-31   337084.0\n",
      "2007-12-31   331616.0\n",
      "2008-12-31    91054.0\n",
      "2009-12-31   181126.0\n",
      "2010-12-31  2478390.0\n",
      "2011-12-31   437225.0\n",
      "2012-12-31   433940.0\n",
      "2013-12-31   476936.0\n",
      "2014-12-31   499274.0\n",
      "2015-12-31   474869.0\n",
      "2016-12-31   860000.0\n",
      "2017-12-31     6750.0\n"
     ]
    }
   ],
   "source": [
    "# Gets the , which has a Quandl Code of\n",
    "# EIA/PET_RWTC_D from the US Department of Energy dataset: \n",
    "data = quandl.get('USAID/MILCONT_STKITTSANDNEVIS')\n",
    "print(type(data))\n",
    "print(data)"
   ]
  },
  {
   "cell_type": "code",
   "execution_count": 11,
   "metadata": {},
   "outputs": [
    {
     "data": {
      "text/html": [
       "<div>\n",
       "<style scoped>\n",
       "    .dataframe tbody tr th:only-of-type {\n",
       "        vertical-align: middle;\n",
       "    }\n",
       "\n",
       "    .dataframe tbody tr th {\n",
       "        vertical-align: top;\n",
       "    }\n",
       "\n",
       "    .dataframe thead th {\n",
       "        text-align: right;\n",
       "    }\n",
       "</style>\n",
       "<table border=\"1\" class=\"dataframe\">\n",
       "  <thead>\n",
       "    <tr style=\"text-align: right;\">\n",
       "      <th></th>\n",
       "      <th>Value</th>\n",
       "    </tr>\n",
       "    <tr>\n",
       "      <th>Date</th>\n",
       "      <th></th>\n",
       "    </tr>\n",
       "  </thead>\n",
       "  <tbody>\n",
       "    <tr>\n",
       "      <th>1984-12-31</th>\n",
       "      <td>64476.0</td>\n",
       "    </tr>\n",
       "    <tr>\n",
       "      <th>1985-12-31</th>\n",
       "      <td>50704.0</td>\n",
       "    </tr>\n",
       "    <tr>\n",
       "      <th>1986-12-31</th>\n",
       "      <td>61013.0</td>\n",
       "    </tr>\n",
       "    <tr>\n",
       "      <th>1987-12-31</th>\n",
       "      <td>98848.0</td>\n",
       "    </tr>\n",
       "    <tr>\n",
       "      <th>1988-12-31</th>\n",
       "      <td>110199.0</td>\n",
       "    </tr>\n",
       "    <tr>\n",
       "      <th>1989-12-31</th>\n",
       "      <td>81655.0</td>\n",
       "    </tr>\n",
       "    <tr>\n",
       "      <th>1990-12-31</th>\n",
       "      <td>938995.0</td>\n",
       "    </tr>\n",
       "    <tr>\n",
       "      <th>1991-12-31</th>\n",
       "      <td>1012096.0</td>\n",
       "    </tr>\n",
       "    <tr>\n",
       "      <th>1992-12-31</th>\n",
       "      <td>886748.0</td>\n",
       "    </tr>\n",
       "    <tr>\n",
       "      <th>1993-12-31</th>\n",
       "      <td>385995.0</td>\n",
       "    </tr>\n",
       "    <tr>\n",
       "      <th>1994-12-31</th>\n",
       "      <td>122393.0</td>\n",
       "    </tr>\n",
       "    <tr>\n",
       "      <th>1995-12-31</th>\n",
       "      <td>116890.0</td>\n",
       "    </tr>\n",
       "    <tr>\n",
       "      <th>1996-12-31</th>\n",
       "      <td>181568.0</td>\n",
       "    </tr>\n",
       "    <tr>\n",
       "      <th>1997-12-31</th>\n",
       "      <td>232660.0</td>\n",
       "    </tr>\n",
       "    <tr>\n",
       "      <th>1998-12-31</th>\n",
       "      <td>445552.0</td>\n",
       "    </tr>\n",
       "    <tr>\n",
       "      <th>1999-12-31</th>\n",
       "      <td>317446.0</td>\n",
       "    </tr>\n",
       "    <tr>\n",
       "      <th>2000-12-31</th>\n",
       "      <td>275515.0</td>\n",
       "    </tr>\n",
       "    <tr>\n",
       "      <th>2001-12-31</th>\n",
       "      <td>434250.0</td>\n",
       "    </tr>\n",
       "    <tr>\n",
       "      <th>2002-12-31</th>\n",
       "      <td>461416.0</td>\n",
       "    </tr>\n",
       "    <tr>\n",
       "      <th>2003-12-31</th>\n",
       "      <td>468198.0</td>\n",
       "    </tr>\n",
       "    <tr>\n",
       "      <th>2004-12-31</th>\n",
       "      <td>804563.0</td>\n",
       "    </tr>\n",
       "    <tr>\n",
       "      <th>2005-12-31</th>\n",
       "      <td>357784.0</td>\n",
       "    </tr>\n",
       "    <tr>\n",
       "      <th>2006-12-31</th>\n",
       "      <td>337084.0</td>\n",
       "    </tr>\n",
       "    <tr>\n",
       "      <th>2007-12-31</th>\n",
       "      <td>331616.0</td>\n",
       "    </tr>\n",
       "    <tr>\n",
       "      <th>2008-12-31</th>\n",
       "      <td>91054.0</td>\n",
       "    </tr>\n",
       "    <tr>\n",
       "      <th>2009-12-31</th>\n",
       "      <td>181126.0</td>\n",
       "    </tr>\n",
       "    <tr>\n",
       "      <th>2010-12-31</th>\n",
       "      <td>2478390.0</td>\n",
       "    </tr>\n",
       "    <tr>\n",
       "      <th>2011-12-31</th>\n",
       "      <td>437225.0</td>\n",
       "    </tr>\n",
       "    <tr>\n",
       "      <th>2012-12-31</th>\n",
       "      <td>433940.0</td>\n",
       "    </tr>\n",
       "    <tr>\n",
       "      <th>2013-12-31</th>\n",
       "      <td>476936.0</td>\n",
       "    </tr>\n",
       "    <tr>\n",
       "      <th>2014-12-31</th>\n",
       "      <td>499274.0</td>\n",
       "    </tr>\n",
       "    <tr>\n",
       "      <th>2015-12-31</th>\n",
       "      <td>474869.0</td>\n",
       "    </tr>\n",
       "    <tr>\n",
       "      <th>2016-12-31</th>\n",
       "      <td>860000.0</td>\n",
       "    </tr>\n",
       "    <tr>\n",
       "      <th>2017-12-31</th>\n",
       "      <td>6750.0</td>\n",
       "    </tr>\n",
       "  </tbody>\n",
       "</table>\n",
       "</div>"
      ],
      "text/plain": [
       "                Value\n",
       "Date                 \n",
       "1984-12-31    64476.0\n",
       "1985-12-31    50704.0\n",
       "1986-12-31    61013.0\n",
       "1987-12-31    98848.0\n",
       "1988-12-31   110199.0\n",
       "1989-12-31    81655.0\n",
       "1990-12-31   938995.0\n",
       "1991-12-31  1012096.0\n",
       "1992-12-31   886748.0\n",
       "1993-12-31   385995.0\n",
       "1994-12-31   122393.0\n",
       "1995-12-31   116890.0\n",
       "1996-12-31   181568.0\n",
       "1997-12-31   232660.0\n",
       "1998-12-31   445552.0\n",
       "1999-12-31   317446.0\n",
       "2000-12-31   275515.0\n",
       "2001-12-31   434250.0\n",
       "2002-12-31   461416.0\n",
       "2003-12-31   468198.0\n",
       "2004-12-31   804563.0\n",
       "2005-12-31   357784.0\n",
       "2006-12-31   337084.0\n",
       "2007-12-31   331616.0\n",
       "2008-12-31    91054.0\n",
       "2009-12-31   181126.0\n",
       "2010-12-31  2478390.0\n",
       "2011-12-31   437225.0\n",
       "2012-12-31   433940.0\n",
       "2013-12-31   476936.0\n",
       "2014-12-31   499274.0\n",
       "2015-12-31   474869.0\n",
       "2016-12-31   860000.0\n",
       "2017-12-31     6750.0"
      ]
     },
     "execution_count": 11,
     "metadata": {},
     "output_type": "execute_result"
    }
   ],
   "source": [
    "data = quandl.get(\"USAID/MILCONT_STKITTSANDNEVIS\", start_date='1984-12-31', end_date='2017-12-31')\n",
    "data"
   ]
  },
  {
   "cell_type": "code",
   "execution_count": 14,
   "metadata": {},
   "outputs": [
    {
     "data": {
      "text/plain": [
       "<matplotlib.axes._subplots.AxesSubplot at 0x1b39800d160>"
      ]
     },
     "execution_count": 14,
     "metadata": {},
     "output_type": "execute_result"
    },
    {
     "data": {
      "image/png": "[encoded data removed]",
      "text/plain": [
       "<Figure size 432x288 with 1 Axes>"
      ]
     },
     "metadata": {
      "needs_background": "light"
     },
     "output_type": "display_data"
    }
   ],
   "source": [
    "data.plot.line()"
   ]
  },
  {
   "cell_type": "code",
   "execution_count": 13,
   "metadata": {},
   "outputs": [
    {
     "data": {
      "text/plain": [
       "array([<matplotlib.axes._subplots.AxesSubplot object at 0x000001B397D772B0>],\n",
       "      dtype=object)"
      ]
     },
     "execution_count": 13,
     "metadata": {},
     "output_type": "execute_result"
    },
    {
     "data": {
      "image/png": "[encoded data removed]",
      "text/plain": [
       "<Figure size 432x288 with 1 Axes>"
      ]
     },
     "metadata": {
      "needs_background": "light"
     },
     "output_type": "display_data"
    }
   ],
   "source": [
    "data.plot.line(subplots=True)"
   ]
  },
  {
   "cell_type": "code",
   "execution_count": null,
   "metadata": {},
   "outputs": [],
   "source": []
  },
  {
   "cell_type": "code",
   "execution_count": null,
   "metadata": {},
   "outputs": [],
   "source": []
  }
 ],
 "metadata": {
  "kernelspec": {
   "display_name": "Python 3",
   "language": "python",
   "name": "python3"
  },
  "language_info": {
   "codemirror_mode": {
    "name": "ipython",
    "version": 3
   },
   "file_extension": ".py",
   "mimetype": "text/x-python",
   "name": "python",
   "nbconvert_exporter": "python",
   "pygments_lexer": "ipython3",
   "version": "3.7.3"
  }
 },
 "nbformat": 4,
 "nbformat_minor": 2
}
