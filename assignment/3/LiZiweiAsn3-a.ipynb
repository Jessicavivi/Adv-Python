{
 "cells": [
  {
   "cell_type": "code",
   "execution_count": 2,
   "metadata": {},
   "outputs": [],
   "source": [
    "#LiZiweiAsn3-a\n",
    "import pandas as pd"
   ]
  },
  {
   "cell_type": "code",
   "execution_count": 3,
   "metadata": {},
   "outputs": [
    {
     "name": "stdout",
     "output_type": "stream",
     "text": [
      "<class 'pandas.core.frame.DataFrame'>\n",
      "<class 'pandas.core.frame.DataFrame'>\n",
      "<class 'pandas.core.frame.DataFrame'>\n",
      "<class 'pandas.core.frame.DataFrame'>\n",
      "<class 'pandas.core.frame.DataFrame'>\n",
      "<class 'pandas.core.frame.DataFrame'>\n",
      "<class 'pandas.core.frame.DataFrame'>\n",
      "<class 'pandas.core.frame.DataFrame'>\n",
      "8\n"
     ]
    }
   ],
   "source": [
    "urlString = 'https://www.treasury.gov/resource-center/data-chart-center/interest-rates/Pages/TextView.aspx?data=yield'\n",
    "dfs = pd.read_html(urlString)\n",
    "\n",
    "for df in dfs:\n",
    "    print(type(df))\n",
    "print(len(dfs))"
   ]
  },
  {
   "cell_type": "code",
   "execution_count": 4,
   "metadata": {},
   "outputs": [
    {
     "data": {
      "text/html": [
       "<div>\n",
       "<style scoped>\n",
       "    .dataframe tbody tr th:only-of-type {\n",
       "        vertical-align: middle;\n",
       "    }\n",
       "\n",
       "    .dataframe tbody tr th {\n",
       "        vertical-align: top;\n",
       "    }\n",
       "\n",
       "    .dataframe thead th {\n",
       "        text-align: right;\n",
       "    }\n",
       "</style>\n",
       "<table border=\"1\" class=\"dataframe\">\n",
       "  <thead>\n",
       "    <tr style=\"text-align: right;\">\n",
       "      <th></th>\n",
       "      <th>1 mo</th>\n",
       "      <th>2 mo</th>\n",
       "      <th>3 mo</th>\n",
       "      <th>6 mo</th>\n",
       "      <th>1 yr</th>\n",
       "      <th>2 yr</th>\n",
       "      <th>3 yr</th>\n",
       "      <th>5 yr</th>\n",
       "      <th>7 yr</th>\n",
       "      <th>10 yr</th>\n",
       "      <th>20 yr</th>\n",
       "      <th>30 yr</th>\n",
       "    </tr>\n",
       "    <tr>\n",
       "      <th>Date</th>\n",
       "      <th></th>\n",
       "      <th></th>\n",
       "      <th></th>\n",
       "      <th></th>\n",
       "      <th></th>\n",
       "      <th></th>\n",
       "      <th></th>\n",
       "      <th></th>\n",
       "      <th></th>\n",
       "      <th></th>\n",
       "      <th></th>\n",
       "      <th></th>\n",
       "    </tr>\n",
       "  </thead>\n",
       "  <tbody>\n",
       "    <tr>\n",
       "      <th>02/03/20</th>\n",
       "      <td>1.56</td>\n",
       "      <td>1.57</td>\n",
       "      <td>1.57</td>\n",
       "      <td>1.56</td>\n",
       "      <td>1.46</td>\n",
       "      <td>1.36</td>\n",
       "      <td>1.34</td>\n",
       "      <td>1.35</td>\n",
       "      <td>1.45</td>\n",
       "      <td>1.54</td>\n",
       "      <td>1.84</td>\n",
       "      <td>2.01</td>\n",
       "    </tr>\n",
       "    <tr>\n",
       "      <th>02/04/20</th>\n",
       "      <td>1.55</td>\n",
       "      <td>1.57</td>\n",
       "      <td>1.57</td>\n",
       "      <td>1.57</td>\n",
       "      <td>1.48</td>\n",
       "      <td>1.41</td>\n",
       "      <td>1.40</td>\n",
       "      <td>1.42</td>\n",
       "      <td>1.52</td>\n",
       "      <td>1.61</td>\n",
       "      <td>1.91</td>\n",
       "      <td>2.08</td>\n",
       "    </tr>\n",
       "    <tr>\n",
       "      <th>02/05/20</th>\n",
       "      <td>1.55</td>\n",
       "      <td>1.56</td>\n",
       "      <td>1.57</td>\n",
       "      <td>1.57</td>\n",
       "      <td>1.49</td>\n",
       "      <td>1.44</td>\n",
       "      <td>1.43</td>\n",
       "      <td>1.46</td>\n",
       "      <td>1.57</td>\n",
       "      <td>1.66</td>\n",
       "      <td>1.97</td>\n",
       "      <td>2.14</td>\n",
       "    </tr>\n",
       "    <tr>\n",
       "      <th>02/06/20</th>\n",
       "      <td>1.59</td>\n",
       "      <td>1.59</td>\n",
       "      <td>1.57</td>\n",
       "      <td>1.58</td>\n",
       "      <td>1.51</td>\n",
       "      <td>1.44</td>\n",
       "      <td>1.43</td>\n",
       "      <td>1.45</td>\n",
       "      <td>1.56</td>\n",
       "      <td>1.65</td>\n",
       "      <td>1.94</td>\n",
       "      <td>2.11</td>\n",
       "    </tr>\n",
       "    <tr>\n",
       "      <th>02/07/20</th>\n",
       "      <td>1.57</td>\n",
       "      <td>1.58</td>\n",
       "      <td>1.56</td>\n",
       "      <td>1.57</td>\n",
       "      <td>1.49</td>\n",
       "      <td>1.41</td>\n",
       "      <td>1.39</td>\n",
       "      <td>1.41</td>\n",
       "      <td>1.51</td>\n",
       "      <td>1.59</td>\n",
       "      <td>1.89</td>\n",
       "      <td>2.05</td>\n",
       "    </tr>\n",
       "  </tbody>\n",
       "</table>\n",
       "</div>"
      ],
      "text/plain": [
       "          1 mo  2 mo  3 mo  6 mo  1 yr  2 yr  3 yr  5 yr  7 yr  10 yr  20 yr  \\\n",
       "Date                                                                           \n",
       "02/03/20  1.56  1.57  1.57  1.56  1.46  1.36  1.34  1.35  1.45   1.54   1.84   \n",
       "02/04/20  1.55  1.57  1.57  1.57  1.48  1.41  1.40  1.42  1.52   1.61   1.91   \n",
       "02/05/20  1.55  1.56  1.57  1.57  1.49  1.44  1.43  1.46  1.57   1.66   1.97   \n",
       "02/06/20  1.59  1.59  1.57  1.58  1.51  1.44  1.43  1.45  1.56   1.65   1.94   \n",
       "02/07/20  1.57  1.58  1.56  1.57  1.49  1.41  1.39  1.41  1.51   1.59   1.89   \n",
       "\n",
       "          30 yr  \n",
       "Date             \n",
       "02/03/20   2.01  \n",
       "02/04/20   2.08  \n",
       "02/05/20   2.14  \n",
       "02/06/20   2.11  \n",
       "02/07/20   2.05  "
      ]
     },
     "execution_count": 4,
     "metadata": {},
     "output_type": "execute_result"
    }
   ],
   "source": [
    "interest_rate = dfs[1]\n",
    "interest_rate.set_index([\"Date\"], inplace=True)\n",
    "interest_rate"
   ]
  },
  {
   "cell_type": "code",
   "execution_count": 35,
   "metadata": {},
   "outputs": [
    {
     "name": "stdout",
     "output_type": "stream",
     "text": [
      "[1.57, 1.58, 1.56, 1.57, 1.49, 1.41, 1.39, 1.41, 1.51, 1.59, 1.89, 2.05]\n"
     ]
    }
   ],
   "source": [
    "latest_yields = interest_rate.iloc[-1].values\n",
    "list1 = []\n",
    "for i in range(len(latest_yields)):\n",
    "    values = latest_yields[i]\n",
    "    list1.append(values)\n",
    "print(list1)\n",
    "#print(latest_yields)"
   ]
  },
  {
   "cell_type": "code",
   "execution_count": 36,
   "metadata": {},
   "outputs": [
    {
     "data": {
      "image/png": "[encoded data removed]",
      "text/plain": [
       "<Figure size 432x288 with 1 Axes>"
      ]
     },
     "metadata": {
      "needs_background": "light"
     },
     "output_type": "display_data"
    }
   ],
   "source": [
    "import matplotlib.pyplot as plt \n",
    "y = list1\n",
    "x = [1/12, 2/12, 3/12, 6/12, 1, 2, 3, 5, 7, 10, 20, 30]\n",
    "plt.scatter(x, y) \n",
    "plt.show()"
   ]
  },
  {
   "cell_type": "code",
   "execution_count": 37,
   "metadata": {},
   "outputs": [],
   "source": [
    "\n",
    "yr2_value = interest_rate['2 yr'].values\n",
    "yr10_value = interest_rate['10 yr'].values\n",
    "yr2 = []\n",
    "yr10 =[]\n",
    "for i in range(len(yr2_value)):\n",
    "    values1 = yr2_value[i]\n",
    "    yr2.append(values1)\n",
    "for j in range(len(yr10_value)):\n",
    "    values2 = yr10_value[j] \n",
    "    yr10.append(values2)\n",
    "    \n",
    "date = ['02/03/20','02/04/20','02/05/20','02/06/20','02/07/20']\n",
    "#print(yr2)\n",
    "#print(yr10)"
   ]
  },
  {
   "cell_type": "code",
   "execution_count": 38,
   "metadata": {},
   "outputs": [
    {
     "data": {
      "image/png": "[encoded data removed]",
      "text/plain": [
       "<Figure size 432x288 with 1 Axes>"
      ]
     },
     "metadata": {
      "needs_background": "light"
     },
     "output_type": "display_data"
    }
   ],
   "source": [
    "#plot of 2 years\n",
    "y = yr2\n",
    "x = date\n",
    "plt.scatter(x, y) \n",
    "plt.show()"
   ]
  },
  {
   "cell_type": "code",
   "execution_count": 39,
   "metadata": {},
   "outputs": [
    {
     "data": {
      "image/png": "[encoded data removed]",
      "text/plain": [
       "<Figure size 432x288 with 1 Axes>"
      ]
     },
     "metadata": {
      "needs_background": "light"
     },
     "output_type": "display_data"
    }
   ],
   "source": [
    "#plot of 10 years\n",
    "y = yr10\n",
    "x = date\n",
    "plt.scatter(x, y) \n",
    "plt.show()"
   ]
  },
  {
   "cell_type": "code",
   "execution_count": null,
   "metadata": {},
   "outputs": [],
   "source": []
  }
 ],
 "metadata": {
  "kernelspec": {
   "display_name": "Python 3",
   "language": "python",
   "name": "python3"
  },
  "language_info": {
   "codemirror_mode": {
    "name": "ipython",
    "version": 3
   },
   "file_extension": ".py",
   "mimetype": "text/x-python",
   "name": "python",
   "nbconvert_exporter": "python",
   "pygments_lexer": "ipython3",
   "version": "3.7.3"
  }
 },
 "nbformat": 4,
 "nbformat_minor": 2
}
