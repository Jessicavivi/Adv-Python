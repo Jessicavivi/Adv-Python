{
 "cells": [
  {
   "cell_type": "markdown",
   "metadata": {},
   "source": [
    "# ISGB79AA Assignment 2 Answers"
   ]
  },
  {
   "cell_type": "code",
   "execution_count": null,
   "metadata": {},
   "outputs": [],
   "source": [
    "import sqlite3 as sql\n",
    "import pandas as pd"
   ]
  },
  {
   "cell_type": "code",
   "execution_count": null,
   "metadata": {},
   "outputs": [],
   "source": [
    "# Q1: query tickers table and populate and display a DataFrame\n",
    "connection = sql.connect('dj.db')\n",
    "cursor = connection.cursor()\n",
    "cursor.execute(\"SELECT id, ticker, name FROM tickers\")\n",
    "rows = cursor.fetchall() # access all rows using fetchall()\n",
    "df = pd.DataFrame(rows, columns = ['id', 'ticker', 'name'])\n",
    "df.set_index(\"ticker\", inplace=True, drop=True)\n",
    "df"
   ]
  },
  {
   "cell_type": "code",
   "execution_count": null,
   "metadata": {},
   "outputs": [],
   "source": [
    "# Q2: query daily measure table and determine start and end dates\n",
    "connection = sql.connect('dj.db')\n",
    "cursor = connection.cursor()\n",
    "query = '''\n",
    "SELECT min(date) as first, max(date) as last \n",
    "FROM daily_measures\n",
    "'''\n",
    "cursor.execute(query)\n",
    "rows = cursor.fetchone()\n",
    "print(rows)"
   ]
  },
  {
   "cell_type": "code",
   "execution_count": null,
   "metadata": {
    "scrolled": true
   },
   "outputs": [],
   "source": [
    "# Q3: query daily measure table and determine max closing price w/ date\n",
    "connection = sql.connect('dj.db')\n",
    "cursor = connection.cursor()\n",
    "query = '''\n",
    "SELECT date, closing\n",
    "FROM daily_measures\n",
    "WHERE ticker_id=3\n",
    "ORDER BY date\n",
    "'''\n",
    "cursor.execute(query)\n",
    "\n",
    "maxPrice = 0\n",
    "maxDate = None\n",
    "for row in cursor: # iterate through rows using the cursor\n",
    "    date = row[0]\n",
    "    closing = row[1]\n",
    "    #print (date, closing)\n",
    "    if closing > maxPrice:\n",
    "        maxPrice = closing\n",
    "        maxDate = date\n",
    "print(maxDate, maxPrice)"
   ]
  },
  {
   "cell_type": "code",
   "execution_count": null,
   "metadata": {},
   "outputs": [],
   "source": [
    "# Q4: query daily measure table to determine max closing price % change\n",
    "connection = sql.connect('dj.db')\n",
    "cursor = connection.cursor()\n",
    "query = '''\n",
    "SELECT date, closing\n",
    "FROM daily_measures\n",
    "WHERE ticker_id=3\n",
    "ORDER BY date\n",
    "'''\n",
    "cursor.execute(query)\n",
    "rows = cursor.fetchall()\n",
    "df = pd.DataFrame(rows, columns = ['date', 'closing'])\n",
    "df.set_index(\"date\", inplace=True, drop=True)\n",
    "df"
   ]
  },
  {
   "cell_type": "code",
   "execution_count": null,
   "metadata": {},
   "outputs": [],
   "source": [
    "# Q3 cont: add percent change column\n",
    "df[\"pctchg\"] = df.closing.pct_change()\n",
    "df"
   ]
  },
  {
   "cell_type": "code",
   "execution_count": null,
   "metadata": {},
   "outputs": [],
   "source": [
    "# Q4 (cont): query by using max() function to find largest 1-day % gain row\n",
    "df[df.pctchg == df.pctchg.max()]"
   ]
  },
  {
   "cell_type": "code",
   "execution_count": null,
   "metadata": {},
   "outputs": [],
   "source": [
    "# Q4 (cont): query by using min() function to find larget 1-day % loss\n",
    "df[df.pctchg == df.pctchg.min()]"
   ]
  },
  {
   "cell_type": "code",
   "execution_count": null,
   "metadata": {},
   "outputs": [],
   "source": []
  }
 ],
 "metadata": {
  "kernelspec": {
   "display_name": "Python 3",
   "language": "python",
   "name": "python3"
  },
  "language_info": {
   "codemirror_mode": {
    "name": "ipython",
    "version": 3
   },
   "file_extension": ".py",
   "mimetype": "text/x-python",
   "name": "python",
   "nbconvert_exporter": "python",
   "pygments_lexer": "ipython3",
   "version": "3.7.1"
  }
 },
 "nbformat": 4,
 "nbformat_minor": 2
}
