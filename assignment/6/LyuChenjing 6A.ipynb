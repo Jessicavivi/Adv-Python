{
 "cells": [
  {
   "cell_type": "code",
   "execution_count": null,
   "metadata": {},
   "outputs": [],
   "source": [
    "b = float(input('Enter the starting balance ($): '))\n",
    "t = int(input('Enter term (# of investment years): '))\n",
    "r = float(input('Enter the interest rate: '))\n",
    "f = int(input('Enter the compounding frequency (times per year): '))\n",
    "\n",
    "for i in range(t):\n",
    "    e = b*(1+(r/f*100))**f\n",
    "    i = e-b\n",
    "    print(i+1, end = '\\t')\n",
    "    print(format(b,'10,.2f'),end='\\t')\n",
    "    print(format(e, '18,.2f'))\n",
    "    b=e\n",
    "    \n",
    "schedule =b,t,r,f\n",
    "print(schedule)"
   ]
  },
  {
   "cell_type": "code",
   "execution_count": null,
   "metadata": {},
   "outputs": [],
   "source": []
  }
 ],
 "metadata": {
  "kernelspec": {
   "display_name": "Python 3",
   "language": "python",
   "name": "python3"
  },
  "language_info": {
   "codemirror_mode": {
    "name": "ipython",
    "version": 3
   },
   "file_extension": ".py",
   "mimetype": "text/x-python",
   "name": "python",
   "nbconvert_exporter": "python",
   "pygments_lexer": "ipython3",
   "version": "3.7.3"
  }
 },
 "nbformat": 4,
 "nbformat_minor": 2
}
