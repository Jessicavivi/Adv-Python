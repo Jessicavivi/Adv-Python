{
 "cells": [
  {
   "cell_type": "code",
   "execution_count": 1,
   "metadata": {},
   "outputs": [],
   "source": [
    "# Li Ziwei Saaignment 6a\n",
    "import QuantLib as ql\n",
    "import pandas as pd"
   ]
  },
  {
   "cell_type": "code",
   "execution_count": 9,
   "metadata": {},
   "outputs": [],
   "source": [
    "def CompoundInterestSchedule(b,t,r,f):\n",
    "    time = []\n",
    "    strating_balance = []\n",
    "    interest_earned = []\n",
    "    ending_balance = []\n",
    "    for i in range(1,t+1):\n",
    "        E = b*(1 + r/f)**f\n",
    "        time.append(i)\n",
    "        strating_balance.append(b)\n",
    "        interest_earned.append(E-b)\n",
    "        ending_balance.append(E)\n",
    "        b = E\n",
    "    df = pd.DataFrame({'time': time,'strating_balance': strating_balance,'interest_earned': interest_earned,'ending_balance': ending_balance})\n",
    "    return df    "
   ]
  },
  {
   "cell_type": "code",
   "execution_count": 10,
   "metadata": {},
   "outputs": [
    {
     "name": "stdout",
     "output_type": "stream",
     "text": [
      "   time  strating_balance  interest_earned  ending_balance\n",
      "0     1       1000.000000        50.625000     1050.625000\n",
      "1     2       1050.625000        53.187891     1103.812891\n",
      "2     3       1103.812891        55.880528     1159.693418\n",
      "3     4       1159.693418        58.709479     1218.402898\n",
      "4     5       1218.402898        61.681647     1280.084544\n"
     ]
    }
   ],
   "source": [
    "b = 1000 # initial balance of $1,000    \n",
    "t = 5 # 5-year investment   \n",
    "r = .05 # interest rate of 5%    \n",
    "f = 2 # semi-annual compounding    \n",
    "schedule = CompoundInterestSchedule(b, t, r, f)    \n",
    "print(schedule)"
   ]
  },
  {
   "cell_type": "code",
   "execution_count": null,
   "metadata": {},
   "outputs": [],
   "source": []
  }
 ],
 "metadata": {
  "kernelspec": {
   "display_name": "Python 3",
   "language": "python",
   "name": "python3"
  },
  "language_info": {
   "codemirror_mode": {
    "name": "ipython",
    "version": 3
   },
   "file_extension": ".py",
   "mimetype": "text/x-python",
   "name": "python",
   "nbconvert_exporter": "python",
   "pygments_lexer": "ipython3",
   "version": "3.7.3"
  }
 },
 "nbformat": 4,
 "nbformat_minor": 2
}
