{
 "cells": [
  {
   "cell_type": "code",
   "execution_count": 1,
   "metadata": {},
   "outputs": [],
   "source": [
    "import QuantLib as ql"
   ]
  },
  {
   "cell_type": "code",
   "execution_count": 2,
   "metadata": {},
   "outputs": [],
   "source": [
    "# parameters for the timing of the bond's cashflows\n",
    "issueDate = ql.Date(15, 2, 2020)\n",
    "maturityDate = ql.Date(15, 2, 2050) \n",
    "frequency = ql.Period(ql.Semiannual) # pay semi-annually\n",
    "calendar = ql.NullCalendar()\n",
    "businessConvention = ql.Unadjusted\n",
    "dateGeneration = ql.DateGeneration.Backward # payment dates generated from maturity backwards\n",
    "monthEnd = False # convention for aligning dates with month end"
   ]
  },
  {
   "cell_type": "code",
   "execution_count": 3,
   "metadata": {},
   "outputs": [
    {
     "name": "stdout",
     "output_type": "stream",
     "text": [
      "February 15th, 2020\n",
      "August 15th, 2020\n",
      "February 15th, 2021\n",
      "August 15th, 2021\n",
      "February 15th, 2022\n",
      "August 15th, 2022\n",
      "February 15th, 2023\n",
      "August 15th, 2023\n",
      "February 15th, 2024\n",
      "August 15th, 2024\n",
      "February 15th, 2025\n",
      "August 15th, 2025\n",
      "February 15th, 2026\n",
      "August 15th, 2026\n",
      "February 15th, 2027\n",
      "August 15th, 2027\n",
      "February 15th, 2028\n",
      "August 15th, 2028\n",
      "February 15th, 2029\n",
      "August 15th, 2029\n",
      "February 15th, 2030\n",
      "August 15th, 2030\n",
      "February 15th, 2031\n",
      "August 15th, 2031\n",
      "February 15th, 2032\n",
      "August 15th, 2032\n",
      "February 15th, 2033\n",
      "August 15th, 2033\n",
      "February 15th, 2034\n",
      "August 15th, 2034\n",
      "February 15th, 2035\n",
      "August 15th, 2035\n",
      "February 15th, 2036\n",
      "August 15th, 2036\n",
      "February 15th, 2037\n",
      "August 15th, 2037\n",
      "February 15th, 2038\n",
      "August 15th, 2038\n",
      "February 15th, 2039\n",
      "August 15th, 2039\n",
      "February 15th, 2040\n",
      "August 15th, 2040\n",
      "February 15th, 2041\n",
      "August 15th, 2041\n",
      "February 15th, 2042\n",
      "August 15th, 2042\n",
      "February 15th, 2043\n",
      "August 15th, 2043\n",
      "February 15th, 2044\n",
      "August 15th, 2044\n",
      "February 15th, 2045\n",
      "August 15th, 2045\n",
      "February 15th, 2046\n",
      "August 15th, 2046\n",
      "February 15th, 2047\n",
      "August 15th, 2047\n",
      "February 15th, 2048\n",
      "August 15th, 2048\n",
      "February 15th, 2049\n",
      "August 15th, 2049\n",
      "February 15th, 2050\n"
     ]
    }
   ],
   "source": [
    "# Generate the schedule for this bond\n",
    "schedule = ql.Schedule(issueDate, maturityDate, frequency, calendar,\n",
    "                       businessConvention,businessConvention, dateGeneration,  monthEnd)\n",
    "for item in schedule:\n",
    "   print(item)"
   ]
  },
  {
   "cell_type": "code",
   "execution_count": 4,
   "metadata": {},
   "outputs": [],
   "source": [
    "couponrate=.02\n",
    "facevalue=1000\n",
    "coupons = [couponrate]\n",
    "daycount=ql.Thirty360()\n",
    "settlementDays = 1\n",
    "fixedRateBond = ql.FixedRateBond(settlementDays, facevalue, schedule, coupons,daycount )"
   ]
  },
  {
   "cell_type": "code",
   "execution_count": 5,
   "metadata": {},
   "outputs": [
    {
     "name": "stdout",
     "output_type": "stream",
     "text": [
      "0.10555555555555872\n"
     ]
    }
   ],
   "source": [
    "# accrued interest \n",
    "settleDate = ql.Date(4, 3, 2020)\n",
    "accrued = fixedRateBond.accruedAmount(settleDate)\n",
    "print(accrued)"
   ]
  },
  {
   "cell_type": "code",
   "execution_count": 6,
   "metadata": {},
   "outputs": [
    {
     "name": "stdout",
     "output_type": "stream",
     "text": [
      "125.81932\n"
     ]
    }
   ],
   "source": [
    "# flat price\n",
    "yld=0.01\n",
    "flat_price = fixedRateBond.cleanPrice(yld,\n",
    "                         ql.ActualActual(ql.ActualActual.Bond), ql.Compounded, ql.Semiannual,\n",
    "                         settleDate)\n",
    "flat_price\n",
    "print(\"%.5f\" % flat_price)"
   ]
  },
  {
   "cell_type": "code",
   "execution_count": 7,
   "metadata": {},
   "outputs": [
    {
     "data": {
      "text/plain": [
       "125.924880444048"
      ]
     },
     "execution_count": 7,
     "metadata": {},
     "output_type": "execute_result"
    }
   ],
   "source": [
    "# full price\n",
    "fullPrice = accrued + flat_price\n",
    "\n",
    "fullPrice\n",
    "#print(\"%.5f\" % fullPrice)"
   ]
  },
  {
   "cell_type": "code",
   "execution_count": null,
   "metadata": {},
   "outputs": [],
   "source": []
  }
 ],
 "metadata": {
  "kernelspec": {
   "display_name": "Python 3",
   "language": "python",
   "name": "python3"
  },
  "language_info": {
   "codemirror_mode": {
    "name": "ipython",
    "version": 3
   },
   "file_extension": ".py",
   "mimetype": "text/x-python",
   "name": "python",
   "nbconvert_exporter": "python",
   "pygments_lexer": "ipython3",
   "version": "3.7.3"
  }
 },
 "nbformat": 4,
 "nbformat_minor": 2
}
